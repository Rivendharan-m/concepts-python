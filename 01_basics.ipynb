{
 "cells": [
  {
   "cell_type": "markdown",
   "metadata": {},
   "source": [
    "---\n",
    "# **Introduction**\n",
    "---\n",
    "- Guido van Rossum, 1991\n",
    "- Interpreter language \n",
    "- uses classes to define data types \n",
    "\n",
    "\n",
    "\n"
   ]
  },
  {
   "cell_type": "code",
   "execution_count": null,
   "metadata": {},
   "outputs": [],
   "source": [
    "import sys\n",
    "print(sys.version)\n",
    "\n",
    "# terminal \n",
    "# python --version"
   ]
  },
  {
   "cell_type": "markdown",
   "metadata": {},
   "source": [
    "---\n",
    "# **comment**\n",
    "---"
   ]
  },
  {
   "cell_type": "code",
   "execution_count": null,
   "metadata": {},
   "outputs": [],
   "source": [
    "# - single line comment\n",
    "\n",
    "# multiline comment \n",
    "# In python script \n",
    "\"\"\"\n",
    "your comment 1\n",
    "\"\"\"\n",
    "\n",
    "# In jupyter notebook either use # or assign the comment \"\"\"something \"\"\" to a variable\n",
    "# else, jupyter will print the string"
   ]
  },
  {
   "cell_type": "markdown",
   "metadata": {},
   "source": [
    "---\n",
    "# **Variables**\n",
    "---\n",
    "\n",
    "- dynamic typing ( data type determined at run time)\n",
    "- case sensitive \n",
    "- Multi words variable name\n",
    "    - Camel case : motorResistorValue\n",
    "    - Pascal case : MotorResistorValue\n",
    "    - Snake case : motor_resistor_value"
   ]
  },
  {
   "cell_type": "code",
   "execution_count": null,
   "metadata": {},
   "outputs": [],
   "source": [
    "# Dynamic typing\n",
    "x = 10\n",
    "print (x , type(x))\n",
    "x = 'ten'\n",
    "print (x , type(x))"
   ]
  },
  {
   "cell_type": "markdown",
   "metadata": {},
   "source": [
    "---\n",
    "# **Assigning the values**\n",
    "---"
   ]
  },
  {
   "cell_type": "code",
   "execution_count": null,
   "metadata": {},
   "outputs": [],
   "source": [
    "# many to many\n",
    "a, b, c  = 1, 2, 3 \n",
    "print (\"many to many:\" , a, b, c)\n",
    "\n",
    "# one to many \n",
    "a = b= c = 1\n",
    "print (\"one to many:\" , a, b, c)\n",
    "\n",
    "#unpack the tuple \n",
    "list_of_value = [6, 3, 6]\n",
    "x, y, z = list_of_value\n",
    "print(\"unpack the tuple:\", x, y, z)"
   ]
  },
  {
   "cell_type": "markdown",
   "metadata": {},
   "source": [
    "---\n",
    "# **Global variable**\n",
    "---"
   ]
  },
  {
   "cell_type": "code",
   "execution_count": null,
   "metadata": {},
   "outputs": [],
   "source": [
    "# global variable \n",
    "x = 10\n",
    "\n",
    "def scope_test_1():\n",
    "    print (\"[Global variable declared outside the function:]\", x)\n",
    "\n",
    "def scope_test_2():\n",
    "    local_var = 7 # local variable\n",
    "    print(\"[Local variable declared inside the function]:\", local_var)\n",
    "    \n",
    "scope_test_1()\n",
    "scope_test_2()\n",
    "\n",
    "# keyword - global\n",
    "\n",
    "def scope_test_3():\n",
    "    global local_var2\n",
    "    local_var2= 10 # global variable declared inside the function \n",
    "\n",
    "scope_test_3()\n",
    "print( \"[Global variable declared inside the function]\" ,local_var2)\n",
    "# \n"
   ]
  },
  {
   "cell_type": "markdown",
   "metadata": {},
   "source": [
    "---\n",
    "# **Data types**\n",
    "---"
   ]
  },
  {
   "cell_type": "code",
   "execution_count": null,
   "metadata": {},
   "outputs": [],
   "source": [
    "type_string = 'pathavan' # text type\n",
    "type_int, type_float, type_complex = 20, 65.5, 1j # int, float, complex\n",
    "\n",
    "type_list  = ['a', 'b', 'a'] # list [mutable or changeable | can have repeated values | ordered list - Index value access]\n",
    "type_tuple = ('a', 'b', 'c') # tuple (unmutable)\n",
    "type_range = range(7)        # range (0-7)\n",
    "\n",
    "type_dict = { \"Germany\" : \"Berlin\"}                          # dict {key: value}\n",
    "type_dict_list = {\"Germany\" : \"Berlin\" , \"India\" : \"Delhi\" } # dict_list {key: value, k2 : v2}\n",
    "\n",
    "type_set = {'a', 'b', 'c'}                   # set (mutable | repeated values are not allowed | unordered list - no index) - usage / membership test\n",
    "type_frozen_set = frozenset({\"a\", \"b\", \"c\"}) # (unmutable set)\n",
    "type_bool = True # boolean\n",
    "\n",
    "# Datatypes access \n",
    "type_complex.real , type_complex.imag\n",
    "type_list[0], type_tuple[-1]\n",
    "type_dict['Germany']"
   ]
  },
  {
   "cell_type": "markdown",
   "metadata": {},
   "source": [
    "---\n",
    "# **type conversion / typing casting**\n",
    "---"
   ]
  },
  {
   "cell_type": "code",
   "execution_count": null,
   "metadata": {},
   "outputs": [],
   "source": [
    "t_int = 1\n",
    "t_float = 10.10\n",
    "t_complex = 10j\n",
    "\n",
    "# type converstion\n",
    "answer = t_int + t_float # implicitly converted to float\n",
    "print(answer, type(answer))\n",
    "\n",
    "# type casting using in-build function () / explicit conversion\n",
    "c_int = int(t_float)        # float to int \n",
    "c_float = float(t_int)      # int to float\n",
    "c_complex = complex(t_float)# float to complex\n",
    "#complex to other type [not possible]"
   ]
  }
 ],
 "metadata": {
  "kernelspec": {
   "display_name": "Python 3",
   "language": "python",
   "name": "python3"
  },
  "language_info": {
   "codemirror_mode": {
    "name": "ipython",
    "version": 3
   },
   "file_extension": ".py",
   "mimetype": "text/x-python",
   "name": "python",
   "nbconvert_exporter": "python",
   "pygments_lexer": "ipython3",
   "version": "3.10.12"
  }
 },
 "nbformat": 4,
 "nbformat_minor": 2
}
