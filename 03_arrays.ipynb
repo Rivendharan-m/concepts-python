{
 "cells": [
  {
   "cell_type": "code",
   "execution_count": 2,
   "metadata": {},
   "outputs": [],
   "source": [
    "# system libraries \n",
    "import numpy as np"
   ]
  },
  {
   "cell_type": "markdown",
   "metadata": {},
   "source": [
    "---\n",
    "# **Lists**\n",
    "---\n",
    "- Dynamic typing - list can store different data type\n",
    "- Dynamic resizing - list can add or remove elements without declaring the size  "
   ]
  },
  {
   "cell_type": "code",
   "execution_count": 3,
   "metadata": {},
   "outputs": [],
   "source": [
    "list_1 = [1, 'a'] # dynamic typing\n",
    "list_1.append(2)"
   ]
  },
  {
   "cell_type": "markdown",
   "metadata": {},
   "source": [
    "---\n",
    "# **NumPy arrays** \n",
    "---\n",
    "- NumPy: Numerical python, 2005\n",
    "- Multi-dimensional support (array and matrices)\n",
    "- Efficient \n",
    "- Faster than lists"
   ]
  },
  {
   "cell_type": "code",
   "execution_count": null,
   "metadata": {},
   "outputs": [],
   "source": [
    "print(np.__version__) # python version"
   ]
  },
  {
   "cell_type": "markdown",
   "metadata": {},
   "source": [
    "---\n",
    "# Creating arrays\n",
    "---\n",
    "![img](resources/img/numpy-vector-matrix-3d-matrix.width-1200.jpg)"
   ]
  },
  {
   "cell_type": "code",
   "execution_count": null,
   "metadata": {},
   "outputs": [],
   "source": [
    "np_array_1 = np.array([1, 2, 3]) #np array\n",
    " \n",
    "list_2 = [10, 20, 30, 40]            # list \n",
    "list_to_numpy_arr = np.array(list_2) # list, tuple and any other array like object can be converted to numpy\n",
    "\n",
    "arr_0D = np.array(7)                 # 0-D arrays or scalars\n",
    "arr_1D = np.array([1, 2, 3, 4, 5])   # 1-D arrays or uni-dimensional\n",
    "arr_2D = np.array([[1, 2], [3, 4]])  # 2-D arrays (can represent matrix)\n",
    "arr_3D = np.array([\n",
    "                    [[1, 2], [3, 4]],\n",
    "                    [[5, 6], [7, 8]]\n",
    "                  ])                 # 3-D arrays\n",
    "\n",
    "print(arr_2D, arr_2D.ndim) #ndim to check the dimensions of np.array"
   ]
  },
  {
   "cell_type": "markdown",
   "metadata": {},
   "source": [
    "---\n",
    "# Indexing\n",
    "---\n",
    "![img](resources/img/3d_array_indexing.png)"
   ]
  },
  {
   "cell_type": "code",
   "execution_count": null,
   "metadata": {},
   "outputs": [],
   "source": [
    "print(arr_1D[0])       # index - starts with zero\n",
    "print(arr_2D[0, 0]) \n",
    "print(arr_3D[1, 1, 0]) # 3d array index\n",
    "print(arr_1D[-1])      # last element of the array"
   ]
  },
  {
   "cell_type": "markdown",
   "metadata": {},
   "source": [
    "---\n",
    "# Slicing\n",
    "---\n",
    " - [start:end]     \n",
    " - [start:end:step] # step :2, every alternative element"
   ]
  },
  {
   "cell_type": "code",
   "execution_count": null,
   "metadata": {},
   "outputs": [],
   "source": [
    "arr_1D = np.array([1, 2, 3, 4, 5])   # 1-D arrays or uni-dimensional\n",
    "\n",
    "print(arr_1D[1:3]) # end index is excluded\n",
    "print(arr_1D[:])   # all the values\n",
    "print(arr_1D[:2])  # from starting till given index -1\n",
    "print(arr_1D[1:])  # from 1, till end \n",
    "print(arr_1D[::2]) # every other alternative elements [step :2 => 1st, 3rd element, step : 3 => 1st element, 4th element]\n",
    "\n",
    "arr_2D = np.array([[1, 2, 3, 4], [5, 6, 7, 8]])  # 2-D arrays \n",
    "print(arr_2D[1, 1:3]) # [x, y] x -> row number, y -> Indexing\n",
    "print(arr_2D[0:3, 1]) # x : first and second row, y : one element\n",
    "print(arr_2D[0:2, 0:2]) "
   ]
  },
  {
   "cell_type": "markdown",
   "metadata": {},
   "source": [
    "---\n",
    "# Data types\n",
    "---\n",
    "- i : integer\n",
    "- b : boolean\n",
    "- f : float\n",
    "- s : string\n",
    "- u : unicode string\n",
    "\n",
    "dtype : returns the data type of array\n",
    "\n",
    "asarray : convert the data type of array and create a new array"
   ]
  },
  {
   "cell_type": "code",
   "execution_count": null,
   "metadata": {},
   "outputs": [],
   "source": [
    "np_arr_2 = np.array([1, 2, 3, 4, 5])\n",
    "print(np_arr_2.dtype) # int \n",
    "\n",
    "np_arr_string = np_arr_2.astype('S')        # convert int array into string\n",
    "print(np_arr_string, np_arr_string.dtype)   # print new array and its data type"
   ]
  },
  {
   "cell_type": "markdown",
   "metadata": {},
   "source": [
    "---\n",
    "# copy vs view\n",
    "---\n",
    "- copy : create a new np array (like pass by value)\n",
    "- view : view the array (like pass by reference)"
   ]
  },
  {
   "cell_type": "code",
   "execution_count": null,
   "metadata": {},
   "outputs": [],
   "source": [
    "np_arr_3 = np.array([1, 2, 3, 4])\n",
    "\n",
    "copy_array = np_arr_3.copy()\n",
    "copy_array[0] = 99\n",
    "print(np_arr_3, copy_array) # changes in copied array, no effect on original [hint: Assigning a np.array to another np.array is actually similar to pass by reference]\n",
    "\n",
    "view_array = np_arr_3.view()\n",
    "view_array[0] = 99\n",
    "print(np_arr_3, view_array) # changes in view reflects in the original array"
   ]
  },
  {
   "cell_type": "markdown",
   "metadata": {},
   "source": [
    "---\n",
    "# iteration\n",
    "---\n",
    "- Iteration of 'N' dimensional array => gives N-1 dimensional array\n",
    "- nditer() : to iterate the higher dimensional array\n",
    "- ndenumerate() : similar to enumerate "
   ]
  },
  {
   "cell_type": "code",
   "execution_count": null,
   "metadata": {},
   "outputs": [],
   "source": [
    "arr_0D = np.array(7)                 # 0-D arrays or scalars\n",
    "arr_1D = np.array([1, 2, 3, 4, 5])   # 1-D arrays or uni-dimensional\n",
    "arr_2D = np.array([[1, 2], [3, 4]])  # 2-D arrays (can represent matrix)\n",
    "arr_3D = np.array([\n",
    "                    [[1, 2], [3, 4]],\n",
    "                    [[5, 6], [7, 8]]\n",
    "                  ])                 # 3-D arrays\n",
    "\n",
    "print(\"iterate over 1D array: \")\n",
    "for x in arr_1D: # gives scalar output or 0D output\n",
    "     print(x)    \n",
    "print(\"iterate over 2D array: \")\n",
    "for x in arr_2D: \n",
    "    print(x)  \n",
    "    \n",
    "print(\"iterate over 3D array: \")\n",
    "for x in arr_3D:\n",
    "    print(x)  \n",
    "    \n",
    "print(\"iterate 3D array using nditer: \")\n",
    "for x in np.nditer(arr_3D):\n",
    "    print(x)\n",
    "\n",
    "print(\"np.ndenumerate: \")\n",
    "for idx, x in np.ndenumerate(arr_2D):\n",
    "    print(idx, x)"
   ]
  },
  {
   "cell_type": "markdown",
   "metadata": {},
   "source": [
    "---\n",
    "# Join\n",
    "---\n",
    "- concatenate\n",
    "- stack"
   ]
  },
  {
   "cell_type": "code",
   "execution_count": null,
   "metadata": {},
   "outputs": [],
   "source": [
    "np_arr_join_test_1 = np.array([1, 2, 3, 4])\n",
    "np_arr_join_test_2 = np.array([5, 6, 7, 8])\n",
    "\n",
    "join_res = np.concatenate((np_arr_join_test_1, np_arr_join_test_2)) \n",
    "print (\"concatenate :\\n\" , join_res)\n",
    "\n",
    "stack_res = np.stack((np_arr_join_test_1, np_arr_join_test_2) ) #stack : add to a new axis unlike concatenate\n",
    "print(\"stack axis 0 [default] : \\n\", stack_res)\n",
    "\n",
    "stack_res_2 = np.stack((np_arr_join_test_1, np_arr_join_test_2), axis= 1)\n",
    "print(\"stack axis 1 :\\n\", stack_res_2)\n",
    "\n",
    "stack_h = np.hstack((np_arr_join_test_1, np_arr_join_test_2))\n",
    "print(\"stack h :\\n\", stack_h)\n",
    "\n",
    "stack_v = np.vstack((np_arr_join_test_1, np_arr_join_test_2))\n",
    "print(\"stack v :\\n\", stack_v)\n",
    "\n",
    "stack_d = np.dstack((np_arr_join_test_1, np_arr_join_test_2))\n",
    "print(\"stack d :\\n\", stack_d)\n",
    "\n"
   ]
  }
 ],
 "metadata": {
  "kernelspec": {
   "display_name": "Python 3",
   "language": "python",
   "name": "python3"
  },
  "language_info": {
   "codemirror_mode": {
    "name": "ipython",
    "version": 3
   },
   "file_extension": ".py",
   "mimetype": "text/x-python",
   "name": "python",
   "nbconvert_exporter": "python",
   "pygments_lexer": "ipython3",
   "version": "3.10.12"
  }
 },
 "nbformat": 4,
 "nbformat_minor": 2
}
