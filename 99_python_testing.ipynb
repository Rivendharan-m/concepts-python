{
 "cells": [
  {
   "cell_type": "markdown",
   "metadata": {},
   "source": [
    "---\n",
    "# **Testing**\n",
    "----\n",
    "- Code Reliability\n",
    "- Correctness\n",
    "- Check against the unintended changes\n",
    "\n",
    "# Testing type\n",
    "\n",
    "| Testing Type         | Description                                      |\n",
    "|----------------------|--------------------------------------------------|\n",
    "| Unit Testing         | Test single piece of code                        |\n",
    "| Integration Testing  | Testing interaction between components or modules|\n",
    "| Functional Testing     | Testing the functionality and behavior of an application from an end-user perspective|\n",
    "| Acceptance Testing   | Testing the application specific standard and requirement|\n",
    "| Exploratory Testing  | Testing the ad-hoc / unscripted approach |\n",
    "\n",
    "# key words \n",
    "| keywords | Description |\n",
    "|----------| ------------|\n",
    "| Test discovery | find all the test functions inside a directory and executing it |\n",
    "| Fixture | Support stepup and teardown | ex. open a connection and close it after testing |\n",
    "| Parameterized testing | testing a function with a list of parameters |\n",
    "| Test coverage reporting | Report the status, which functions are tested |\n",
    "\n",
    "# Assert statement \n",
    "\n",
    "- check whether given condition is true or false.\n",
    "\n"
   ]
  },
  {
   "cell_type": "code",
   "execution_count": null,
   "metadata": {},
   "outputs": [],
   "source": [
    "assert condition, message #assert syntanx:  result false, throws the error and along with message [optional]"
   ]
  },
  {
   "cell_type": "markdown",
   "metadata": {},
   "source": [
    "---\n",
    "# **Unit Testing**\n",
    "---\n",
    "- test a individual units or componenets of software in isolation\n",
    "\n",
    "Testing Frameworks\n",
    "- Unittest\n",
    "- Pytest\n",
    "- Nose or nose2\n",
    "- Doctest"
   ]
  },
  {
   "cell_type": "markdown",
   "metadata": {},
   "source": [
    "---\n",
    "# Unittest \n",
    "\n",
    "- In-built function\n",
    "- Test discovery \n",
    "- Writing test should in class [!imp: test functions name inside the class should start with test (t - small letter)]\n",
    "- Enough for small projects"
   ]
  },
  {
   "cell_type": "code",
   "execution_count": 17,
   "metadata": {},
   "outputs": [],
   "source": [
    "# user defined functions - for testing purpose\n",
    "def user_sum(a, b):\n",
    "    added_value =  a + b\n",
    "    if (added_value < 1 ):\n",
    "        added_value = added_value * -1\n",
    "    return added_value\n",
    "\n",
    "def user_multiply(a, b):\n",
    "    return a * b"
   ]
  },
  {
   "cell_type": "code",
   "execution_count": null,
   "metadata": {},
   "outputs": [],
   "source": [
    "import unittest\n",
    "\n",
    "class TestFunction(unittest.TestCase): # inherite the unittest.TestCase \n",
    "    \n",
    "    def test_user_sum_positive_values(self):\n",
    "        self.assertEqual(user_sum(-2, -3), -5)\n",
    "        self.assertEqual(user_sum(1, 2), 3) # assert statement\n",
    "    \n",
    "    def test_user_sum_negative_values(self):\n",
    "        self.assertEqual(user_sum(-1, -2), -3)\n",
    "        \n",
    "    def test_user_sum_float_values(self):\n",
    "        self.assertEqual(user_sum(1.02, 2.04), 3.06)\n",
    "\n",
    "if __name__ == '__main__':\n",
    "    unittest.main(argv=[''], verbosity= 2, exit= False) # verbosity 2 : gives detailed report"
   ]
  },
  {
   "cell_type": "code",
   "execution_count": null,
   "metadata": {},
   "outputs": [],
   "source": [
    "# running the test functions from py script\n",
    "!python -m unittest -v test/01_functions_test.py"
   ]
  },
  {
   "cell_type": "markdown",
   "metadata": {},
   "source": [
    "---\n",
    "# Pytest\n",
    "\n",
    "- Third party test framework - popular\n",
    "- Suitable for complex/big projects\n",
    "- Features:\n",
    "    - Fixture, parameterized testing possible\n",
    "    - Test dicovery: possible including doctest and unittest [+]"
   ]
  },
  {
   "cell_type": "markdown",
   "metadata": {},
   "source": [
    "To install `pytest`, you can use the following command:\n",
    "```\n",
    "pip install pytest    \n",
    "```\n",
    "\n",
    "Note:\n",
    "- test file(.py) name should either start or end with test (e.g. test_opcua.py or opuca_test.py)\n",
    "- test function (def test_y()) name should always start with test (t - small)"
   ]
  },
  {
   "cell_type": "code",
   "execution_count": null,
   "metadata": {},
   "outputs": [],
   "source": [
    "# It is easier to execute the test_function from script\n",
    "import pytest\n",
    "if __name__ == \"__main__\":\n",
    "    pytest.main([\"-v\", \"test/01_functions_test.py\"])"
   ]
  },
  {
   "cell_type": "code",
   "execution_count": null,
   "metadata": {},
   "outputs": [],
   "source": [
    "!pytest -v test/01_functions_test.py # To execute the test file from command line."
   ]
  },
  {
   "cell_type": "markdown",
   "metadata": {},
   "source": [
    "---\n",
    "# Nose\n",
    "\n",
    "- Contain extended capabilities of built-in unittest \n",
    "- Features:\n",
    "    - test discovery\n",
    "    - parallel test execution [+]\n",
    "\n",
    "To install nose:\n",
    "```\n",
    "pip install nose\n",
    "```"
   ]
  },
  {
   "cell_type": "markdown",
   "metadata": {},
   "source": [
    "---\n",
    "# doctest\n",
    "- Embedded Test directly within documentation\n",
    "- Documentation and testing combined   \n",
    "    def fun(a, b):  \n",
    "         \"\"\"  \n",
    "          >>> fun(2, 3)  \n",
    "          5   \n",
    "          \"\"\"  \n",
    "- pytest & unittest can run doctest as well. \n"
   ]
  },
  {
   "cell_type": "code",
   "execution_count": null,
   "metadata": {},
   "outputs": [],
   "source": [
    "!python -m doctest -v helper/helper_function.py"
   ]
  },
  {
   "cell_type": "code",
   "execution_count": null,
   "metadata": {},
   "outputs": [],
   "source": [
    "!pytest -v --doctest-modules # run all the test [pytest, unittest, doctest in the directory]"
   ]
  },
  {
   "cell_type": "markdown",
   "metadata": {},
   "source": [
    "---\n",
    "# Assertion methods\n",
    "---\n",
    "- assertEqual\n",
    "- assertTrue\n",
    "- assertIsInstance [chcek : instance of class a]\n",
    "- assertFalse\n",
    "- assertIsNone\n",
    "- assertIn [a is member of b]"
   ]
  }
 ],
 "metadata": {
  "kernelspec": {
   "display_name": "Python 3",
   "language": "python",
   "name": "python3"
  },
  "language_info": {
   "codemirror_mode": {
    "name": "ipython",
    "version": 3
   },
   "file_extension": ".py",
   "mimetype": "text/x-python",
   "name": "python",
   "nbconvert_exporter": "python",
   "pygments_lexer": "ipython3",
   "version": "3.10.12"
  }
 },
 "nbformat": 4,
 "nbformat_minor": 2
}
