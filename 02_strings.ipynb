{
 "cells": [
  {
   "cell_type": "markdown",
   "metadata": {},
   "source": [
    "---\n",
    "# **Strings** \n",
    "---\n",
    "- strings are array (index, len, loop over - possible)"
   ]
  },
  {
   "cell_type": "code",
   "execution_count": null,
   "metadata": {},
   "outputs": [],
   "source": [
    "# quotes inside quotes\n",
    "spruch_1 = \"under the 'tree' \"\n",
    "spruch_2 = 'under the \"tree\" '  \n",
    "\n",
    "print(spruch_1)\n",
    "print(spruch_2)"
   ]
  },
  {
   "cell_type": "markdown",
   "metadata": {},
   "source": [
    "---\n",
    "# **Multiline string**\n",
    "---"
   ]
  },
  {
   "cell_type": "code",
   "execution_count": null,
   "metadata": {},
   "outputs": [],
   "source": [
    "multi_line_str =\"\"\"\n",
    "    first line, \n",
    "    second line, \n",
    "    third line,\n",
    "\"\"\"\n",
    "print(multi_line_str) # either three double quote or three single quote "
   ]
  },
  {
   "cell_type": "markdown",
   "metadata": {},
   "source": [
    "---\n",
    "# **Boolean or check operation**\n",
    "---"
   ]
  },
  {
   "cell_type": "code",
   "execution_count": null,
   "metadata": {},
   "outputs": [],
   "source": [
    "Germany = \"I am batman\"\n",
    "print(\"batman\" in Germany)    # bool output\n",
    "\n",
    "string_1 = \"I am batman\"\n",
    "if \"batman\" in string_1:      # test case with if\n",
    "    print(string_1)"
   ]
  },
  {
   "cell_type": "markdown",
   "metadata": {},
   "source": [
    "---\n",
    "# **Modify Strings**\n",
    "---"
   ]
  },
  {
   "cell_type": "code",
   "execution_count": null,
   "metadata": {},
   "outputs": [],
   "source": [
    "test_str_1 = \" Hello, worlt!, it's me \"\n",
    "\n",
    "print(test_str_1.upper())               # upper string\n",
    "print(test_str_1.lower())               # lower string\n",
    "print(test_str_1.strip())               # remove whitespace at the start and end\n",
    "crct_str =test_str_1.replace(\"t\", \"d\")  # replace the string\n",
    "print(crct_str)                         \n",
    "str_list = crct_str.split()             # split the string if it contains separator (,)\n",
    "print(str_list)\n",
    "\n",
    "print(str_list[0] + str_list[1])        # add string"
   ]
  },
  {
   "cell_type": "markdown",
   "metadata": {},
   "source": [
    "---\n",
    "# **Format strings**\n",
    "---"
   ]
  },
  {
   "cell_type": "code",
   "execution_count": null,
   "metadata": {},
   "outputs": [],
   "source": [
    "test_val_1 = 10\n",
    "print(f\"Print as int value: {test_val_1}\")            # print using place holder\n",
    "print(f\"Print as float value: {test_val_1:.2f}\")      # print as float value\n",
    "print(f\"Print the math result: {test_val_1 * 3:.2f}\") # print the math output as float value"
   ]
  },
  {
   "cell_type": "markdown",
   "metadata": {},
   "source": [
    "#### Escape characters\n",
    "\n",
    "- \\n - new line\n",
    "- \\t - tab\n",
    "- \\r - carriage return\n",
    "- \\b - backspace \n",
    "- \\\\' - Single Quote"
   ]
  }
 ],
 "metadata": {
  "kernelspec": {
   "display_name": "Python 3",
   "language": "python",
   "name": "python3"
  },
  "language_info": {
   "codemirror_mode": {
    "name": "ipython",
    "version": 3
   },
   "file_extension": ".py",
   "mimetype": "text/x-python",
   "name": "python",
   "nbconvert_exporter": "python",
   "pygments_lexer": "ipython3",
   "version": "3.10.12"
  }
 },
 "nbformat": 4,
 "nbformat_minor": 2
}
